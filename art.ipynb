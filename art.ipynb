{
  "cells": [
    {
      "cell_type": "raw",
      "metadata": {},
      "source": [
        "---\n",
        "title: \"drawing and paintings\"\n",
        "---"
      ],
      "id": "5e69ad30"
    },
    {
      "cell_type": "markdown",
      "metadata": {},
      "source": [
        "##### Mocking of Christ\n",
        "\n",
        "![Image](artimg/cristo.deriso1.jpg){#cdr1 .zoomable}\n",
        "```{js}\n",
        "document.addEventListener('DOMContentLoaded', function () {\n",
        "  const zoom = mediumZoom('.zoomable');\n",
        "});"
      ],
      "id": "7ef5e1a9"
    }
  ],
  "metadata": {
    "kernelspec": {
      "display_name": "Python 3",
      "language": "python",
      "name": "python3"
    }
  },
  "nbformat": 4,
  "nbformat_minor": 5
}